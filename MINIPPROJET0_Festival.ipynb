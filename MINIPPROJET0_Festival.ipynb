{
 "cells": [
  {
   "cell_type": "markdown",
   "metadata": {},
   "source": [
    "# MINIPROJET 0 - Optimisation des déplacements dans un festival métal en fonction des souhaits\n"
   ]
  },
  {
   "cell_type": "markdown",
   "metadata": {},
   "source": [
    "\n",
    "Dans cet algorithme, on cherche le meilleur chemin parmi les chemins possibles pour satisfaire les souhaits du festivalier. \n",
    "On étudiera les 2 approches : \n",
    "  - l'approche eshaustive, c'est à dire que l'on effectue le calcul pour tous les cas, et on sélectionne le chemin le plus court.\n",
    "  - l'approche gloutonne\n",
    "\n",
    "<div style=\"text-align:center;\">\n",
    "\n",
    "<img src=\"motoc.png\" width=\"15%\">\n",
    "\n",
    "</div>\n"
   ]
  },
  {
   "cell_type": "markdown",
   "metadata": {},
   "source": [
    "# 1. Mise en place des données"
   ]
  },
  {
   "cell_type": "markdown",
   "metadata": {},
   "source": [
    "## 1.1. Les cordonnées des scènes\n",
    "\n",
    "Toujours les mêmes scènes : Bruce Dickinscène, Dave Mustage, Suppositor Stage, Massey Ferguscène   ([lien vers le site motocultor](https://www.motocultor-festival.com/))\n",
    "\n",
    "Un système d'axes (x, y) est placé sur le *Bruce Dickinscène* en référence à **(0, 0)**. La graduation est en **mètres**.\n",
    "\n",
    "<div style=\"text-align:center;\"><img src=\"plan_axes.png\" width=\"30%\"></div>\n",
    "\n",
    "Dans ce repère, les coordonnées des scènes seront les suivantes :"
   ]
  },
  {
   "cell_type": "code",
   "execution_count": 1,
   "metadata": {},
   "outputs": [],
   "source": [
    "scenes = {\"dave\": (0, 0),\n",
    "          \"suppo\": (50, 50),\n",
    "          \"massey\": (300, 300),\n",
    "          \"bruce\": (450, 250)\n",
    "          }"
   ]
  },
  {
   "cell_type": "markdown",
   "metadata": {},
   "source": [
    "Ce qui donne la représentation suivante avec **matplotlib**"
   ]
  },
  {
   "cell_type": "code",
   "execution_count": 2,
   "metadata": {},
   "outputs": [
    {
     "data": {
      "image/png": "[encoded data removed]",
      "text/plain": [
       "<Figure size 640x480 with 1 Axes>"
      ]
     },
     "metadata": {},
     "output_type": "display_data"
    }
   ],
   "source": [
    "from matplotlib import pyplot as plt\n",
    "\n",
    "def affichage_map(plan):\n",
    "    \"\"\" Affiche les scènes aux coordonnées avec leurs noms \"\"\"\n",
    "    for nom in plan.keys():\n",
    "        x = plan[nom][0]   # Coordonnées des scènes\n",
    "        y = plan[nom][1]\n",
    "        plt.scatter(x, y, color=\"blue\")                             # Affichage des scènes points BLEUS\n",
    "        plt.text(x+10, y+2, nom, fontsize=12, color='red')   # Ecrit le nom de la scène\n",
    "    plt.grid()\n",
    "    plt.show()\n",
    "    return\n",
    "affichage_map(scenes)"
   ]
  },
  {
   "cell_type": "markdown",
   "metadata": {},
   "source": [
    "## 1.2. Running order et souhaits du festivalier\n",
    "\n",
    "Pour chaque scène, on a un ordre de passage (simplifié !), ou **running order**. On considère que chaque artiste se produit la même durée, 1h.\n",
    "([lien vers le site motocultor](https://www.motocultor-festival.com/))\n",
    "\n",
    "\n",
    "Le festivalier s'est fait une liste des groupes qu'il souhaite voir ; il est conscient que tout ne sera pas possible !\n",
    "\n",
    "On considère que sur un même créneau horaire, les choix sont à préférences égales.\n"
   ]
  },
  {
   "cell_type": "code",
   "execution_count": 3,
   "metadata": {},
   "outputs": [],
   "source": [
    "# running order dans l'ordre des scènes : dave, suppo, massey, bruce\n",
    "# début à 17h\n",
    "running_order = {   \"17h\": [\"Benediction\", \"-\", \"-\",\"Blackbriar\"],\n",
    "                    \"18h\": [\"-\", \"Darkenhold\", \"The Gorge\", \"-\"],\n",
    "                    \"19h\": [\"Lacuna Coil\", \"-\", \"-\", \"Skamold\"],\n",
    "                    \"20h\": [\"-\", \"Fleshgod Apocalypse\", \"Klone\", \"-\"],\n",
    "                    \"21h\": [\"Kerry King\",\"-\", \"-\", \"Eivor\"],\n",
    "                    \"22h\": [\"-\", \"Tribulation\", \"Solstafir\", \"-\"],\n",
    "                    \"23h\": [\"Dimmu Borgir\", \"-\", \"-\", \"Finntroll\"],\n",
    "                    \"00h\": [\"-\", \"Forbidden\", \"Ihsahn\", \"-\"],\n",
    "                    \"01h\": [\"Carpenter Brut\", \"-\", \"-\", \"Sir Reg\"]\n",
    "                    }\n",
    "\n",
    "# souhaits suivant les créneaux dans l'ordre\n",
    "souhaits = {\"17h\": [\"Blackbriar\"],\n",
    "            \"18h\": [\"Darkenhold\", \"The Gorge\"],\n",
    "            \"19h\": [\"Lacuna Coil\"],\n",
    "            \"20h\": [\"Fleshgod Apocalypse\", \"Klone\"],\n",
    "            \"21h\": [\"Kerry King\"],\n",
    "            \"22h\": [\"Solstafir\"],\n",
    "            \"23h\": [\"Dimmu Borgir\", \"Finntroll\"],\n",
    "            \"00h\": [\"Ihsahn\"],\n",
    "            \"01h\": [\"Carpenter Brut\"]\n",
    "            }"
   ]
  },
  {
   "cell_type": "markdown",
   "metadata": {},
   "source": [
    "## 1.3. Fonctions utiles pour le calcul du parcours\n",
    "\n",
    "Des fonctions à définir en travail préalable de façon à les utiliser par la suite :"
   ]
  },
  {
   "cell_type": "code",
   "execution_count": 4,
   "metadata": {},
   "outputs": [],
   "source": [
    "def artiste_scene(artiste):\n",
    "    \"\"\" Renvoi la scène pour un nom d'artiste, ainsi que ses coordonnées.\n",
    "    \"\"\"\n",
    "\n",
    "    return\n",
    "    \n",
    "        \n",
    "artiste_scene(\"Benediction\")    # Test pour \"Benediction\", renvoie le tuple (\"dave\", (0,0))"
   ]
  },
  {
   "cell_type": "code",
   "execution_count": 5,
   "metadata": {},
   "outputs": [],
   "source": [
    "from math import sqrt\n",
    "\n",
    "def distance(map, nomA,nomB):\n",
    "    \"\"\" Renvoie la distance en mètres entre deux scènes A et B. \n",
    "    \"\"\"\n",
    "  \n",
    "    return \n",
    "\n",
    "\n",
    "distance(scenes, \"dave\",\"massey\")  # Test pour la distance en m entre la scène \"dave\" et la scène \"massey\", renvoie la valeur 424 m (environ)"
   ]
  },
  {
   "cell_type": "code",
   "execution_count": 6,
   "metadata": {},
   "outputs": [],
   "source": [
    "def longueur_chemin(arcours_scenes):\n",
    "    \"\"\" Longueur totale d'une liste de scènes parcourue\n",
    "    \"\"\"\n",
    "\n",
    "    return \n",
    "\n",
    "longueur_chemin([\"dave\", \"massey\", \"dave\"])   # Test une distance parcourue, renvoie 848 m (environ)"
   ]
  },
  {
   "cell_type": "markdown",
   "metadata": {},
   "source": [
    "# 2. Calcul du meilleur parcours (longueur minimale)\n",
    "\n",
    "\n",
    "## 2.1. Travail demandé\n",
    "\n",
    "Au vu des souhaits donnés plus haut, il y aurait BEAUCOUP de parcours possibles... !!\n",
    "\n",
    "Plutôt que de tout explorer pour trouver le minimum, nous allons partir de la 1ère scène ```\"Bruce Dickinscène\" à 17h``` et utiliser une approche **gloutonne** pour :\n",
    "\n",
    "\n",
    "> 1. Déterminer le meilleur parcours dans ces conditions, c'est à dire celui qui correspond à la distance totale parcourue la plus courte.\n",
    ">\n",
    "> 2. Afficher le parcours obtenu et le temps de calcul pour trouver cette solution.\n",
    "\n",
    "En bonus, on pourra comparer d'autres solutions, en comparant les temps de calculs.\n",
    "\n",
    "\n",
    "## 2.2. Evaluation\n",
    "\n",
    "\n",
    "|<mark>Fonctionnalités minimales demandées</mark>|||<mark>Code</mark>||\n",
    "|:--:|--:|:--:|:--:|:--:|\n",
    "|Structures de programme modulaire|/2||Lisibilité du code, clarté, variables explicites|/2|\n",
    "|Détermination du meilleur chemin|/2||Utilisation efficaces de fonctions, modularité|/2|\n",
    "|Temps de calcul|/1||Commentaires et documentation clairs et pertinent|/2|\n",
    "|Affichage du trajet avec matplotlib|/2||Suivi de projet et travail à plusieurs effectif|/2|\n",
    "\n",
    "---\n",
    "\n",
    "|<mark>Compétence</mark>| descriptif | \n",
    "|:---: | :---  |\n",
    "|**APP** | **Mobiliser les concepts et les technologies adaptés au problème**|\n",
    "||*Je m’inspire de différentes méthodes sur les dictioonnaires rencontrées (en classe et ailleurs) pour les adapter efficacement à ma solution. Je les commente précisément.*|\n",
    "|| **Utiliser efficacement les codes trouvés de différentes sources** |\n",
    "||*Je trie efficacement mes résultats de recherche. Je cite mes sources précisément.*|\n",
    "|**REA** | **Imaginer et concevoir une solution modulaire : décomposer en blocs, se ramener à des sous-problèmes simples et indépendants**|\n",
    "||*J’écris et utilise les fonctions les plus adaptées au problème. Je les documente précisément.*|\n",
    "|**COM** | **Travailler à plusieurs**|\n",
    "||*Le travail est réparti équitablement en veillant à des points réguliers. Le projet est réalisé sur un support partagé et accessible.*|\n"
   ]
  }
 ],
 "metadata": {
  "kernelspec": {
   "display_name": "Python 3",
   "language": "python",
   "name": "python3"
  },
  "language_info": {
   "codemirror_mode": {
    "name": "ipython",
    "version": 3
   },
   "file_extension": ".py",
   "mimetype": "text/x-python",
   "name": "python",
   "nbconvert_exporter": "python",
   "pygments_lexer": "ipython3",
   "version": "3.12.3"
  }
 },
 "nbformat": 4,
 "nbformat_minor": 4
}
